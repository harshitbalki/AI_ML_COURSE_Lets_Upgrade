{
 "cells": [
  {
   "cell_type": "markdown",
   "metadata": {},
   "source": [
    "## Q1"
   ]
  },
  {
   "cell_type": "code",
   "execution_count": 11,
   "metadata": {},
   "outputs": [
    {
     "name": "stdout",
     "output_type": "stream",
     "text": [
      "1 is not a prime number\n",
      "6 is not a prime number\n",
      "7 is a prime number\n",
      "8 is not a prime number\n",
      "9 is a prime number\n",
      "9 is not a prime number\n",
      "10 is not a prime number\n",
      "11 is a prime number\n",
      "11 is a prime number\n",
      "11 is a prime number\n",
      "12 is not a prime number\n",
      "13 is a prime number\n",
      "13 is a prime number\n",
      "13 is a prime number\n",
      "13 is a prime number\n",
      "14 is not a prime number\n",
      "15 is a prime number\n",
      "15 is not a prime number\n",
      "16 is not a prime number\n",
      "17 is a prime number\n",
      "17 is a prime number\n",
      "17 is a prime number\n",
      "17 is a prime number\n",
      "17 is a prime number\n",
      "17 is a prime number\n",
      "18 is not a prime number\n",
      "19 is a prime number\n",
      "19 is a prime number\n",
      "19 is a prime number\n",
      "19 is a prime number\n",
      "19 is a prime number\n",
      "19 is a prime number\n",
      "19 is a prime number\n",
      "20 is not a prime number\n"
     ]
    }
   ],
   "source": [
    "for num in range(1,21):\n",
    "    if num > 1:\n",
    "        for i in range(2, num//2):\n",
    "            if (num % i) == 0 & i%2==0:\n",
    "                print(num, \"is not a prime number\")\n",
    "                break\n",
    "            else:\n",
    "                print(num, \"is a prime number\")\n",
    "    else:\n",
    "        print(num, \"is not a prime number\")"
   ]
  },
  {
   "cell_type": "markdown",
   "metadata": {},
   "source": [
    "## Q2"
   ]
  },
  {
   "cell_type": "code",
   "execution_count": 19,
   "metadata": {},
   "outputs": [
    {
     "name": "stdout",
     "output_type": "stream",
     "text": [
      "Hello, World!\n",
      "llo\n",
      "\n",
      "!dlroW ,olleH\n",
      "He##o, Wor#d!\n",
      "hello, world!\n",
      "HELLO, WORLD!\n",
      "False\n",
      "True\n",
      "13\n",
      "5\n",
      "Hello, World!\n",
      "['Hello', ' World!']\n",
      "True\n",
      "Hello, World!HelloHello, World!\n",
      "hELLO, wORLD!\n",
      "the num is 12345356\n",
      "True\n",
      "True\n",
      "True\n",
      "2 2 2 "
     ]
    }
   ],
   "source": [
    "a=\"Hello, World!\"\n",
    "#1\n",
    "print(a)\n",
    "#2\n",
    "print(a[2:5])\n",
    "#3\n",
    "print(a[-7:5])\n",
    "#4\n",
    "print(a[::-1])\n",
    "#5\n",
    "print(a.replace(\"l\",\"#\"))\n",
    "#6\n",
    "print(a.lower())\n",
    "#6\n",
    "print(a.upper())\n",
    "#7\n",
    "print(a.isalpha())\n",
    "b=\"Hello\"\n",
    "print(b.isalpha())\n",
    "#8\n",
    "print(len(a))\n",
    "print(len(b))\n",
    "#9\n",
    "print(a.strip())\n",
    "#10\n",
    "print(a.split(\",\"))\n",
    "#11\n",
    "temp=\"o\" in a\n",
    "print(temp)\n",
    "#12\n",
    "print(a+b+a)\n",
    "#13\n",
    "print(a.swapcase())\n",
    "#14\n",
    "c= \"the num is {}\"\n",
    "no=12345356\n",
    "print(c.format(no))\n",
    "#15\n",
    "d=\"12345656\"\n",
    "print(d.isdigit())\n",
    "#16\n",
    "print(d.isdecimal())\n",
    "#17\n",
    "e=\"ahe123\"\n",
    "print(e.isalnum())\n",
    "#18\n",
    "for i in a:\n",
    "    if i == \"l\":\n",
    "        ans=(a.index(i))\n",
    "        print(ans,end=\" \")"
   ]
  },
  {
   "cell_type": "markdown",
   "metadata": {},
   "source": [
    "## Q3"
   ]
  },
  {
   "cell_type": "code",
   "execution_count": 2,
   "metadata": {},
   "outputs": [
    {
     "name": "stdout",
     "output_type": "stream",
     "text": [
      "enter any string = racecar\n",
      "given str is palindrome\n",
      "enter any string = carrace\n",
      "The strings are anagrams.\n"
     ]
    }
   ],
   "source": [
    "#palindrome\n",
    "s1=input(\"enter any string = \")\n",
    "\n",
    "if s1==s1[::-1]:\n",
    "    print(\"given str is palindrome\")\n",
    "else:\n",
    "    print(\"not palindrome\")\n",
    "# anagrams\n",
    "\n",
    "s2=input(\"enter any string = \")\n",
    "\n",
    "if sorted(s1)== sorted(s2):\n",
    "    print(\"The strings are anagrams.\")  \n",
    "else: \n",
    "    print(\"The strings aren't anagrams.\") \n",
    "    "
   ]
  },
  {
   "cell_type": "markdown",
   "metadata": {},
   "source": [
    "## Q4"
   ]
  },
  {
   "cell_type": "code",
   "execution_count": 6,
   "metadata": {},
   "outputs": [
    {
     "name": "stdout",
     "output_type": "stream",
     "text": [
      "enter a string = Dr.Darshan Ingle @ AI-ML Trainer ,*#$ & Python expert  $$ GEM\n",
      "drdarshaningleaimltrainerpythonexpertgem\n"
     ]
    }
   ],
   "source": [
    "def simple_txt():\n",
    "    a=input(\"enter a string = \")\n",
    "    print(a.replace(\" \",\"\").replace(\"@\",\"\").replace(\"!\",\"\").replace(\".\",\"\").replace(\"-\",\"\").lower().replace(\",\",\"\").replace(\"&\",\"\").replace(\"*\",\"\").replace(\"#\",\"\").replace(\"$\",\"\"))\n",
    "    \n",
    "    \n",
    "\n",
    "simple_txt()"
   ]
  },
  {
   "cell_type": "code",
   "execution_count": null,
   "metadata": {},
   "outputs": [],
   "source": [
    "        "
   ]
  },
  {
   "cell_type": "code",
   "execution_count": null,
   "metadata": {},
   "outputs": [],
   "source": []
  }
 ],
 "metadata": {
  "kernelspec": {
   "display_name": "Python 3",
   "language": "python",
   "name": "python3"
  },
  "language_info": {
   "codemirror_mode": {
    "name": "ipython",
    "version": 3
   },
   "file_extension": ".py",
   "mimetype": "text/x-python",
   "name": "python",
   "nbconvert_exporter": "python",
   "pygments_lexer": "ipython3",
   "version": "3.7.6"
  }
 },
 "nbformat": 4,
 "nbformat_minor": 4
}
