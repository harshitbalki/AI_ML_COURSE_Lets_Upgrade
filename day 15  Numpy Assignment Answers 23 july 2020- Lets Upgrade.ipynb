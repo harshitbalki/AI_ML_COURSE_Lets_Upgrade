{
 "cells": [
  {
   "cell_type": "markdown",
   "metadata": {},
   "source": [
    "# 1. Create a 3x3x3 array with random values "
   ]
  },
  {
   "cell_type": "code",
   "execution_count": 4,
   "metadata": {},
   "outputs": [
    {
     "name": "stdout",
     "output_type": "stream",
     "text": [
      "[[[ 1  2  3]\n",
      "  [ 4  5  6]\n",
      "  [ 7  8  9]]\n",
      "\n",
      " [[10 11 12]\n",
      "  [13 14 15]\n",
      "  [16 17 18]]\n",
      "\n",
      " [[19 20 21]\n",
      "  [22 23 24]\n",
      "  [25 26 27]]]\n",
      "27\n",
      "int32\n",
      "3\n",
      "(3, 3, 3)\n"
     ]
    }
   ],
   "source": [
    "import numpy as np\n",
    "a = np.array([[[1,2,3],[4,5,6],[7,8,9]],[[10,11,12],[13,14,15],[16,17,18]],[[19,20,21],[22,23,24],[25,26,27]]])\n",
    "print(a)\n",
    "print(a.size)\n",
    "print(a.dtype)\n",
    "print(a.ndim)\n",
    "print(a.shape)"
   ]
  },
  {
   "cell_type": "markdown",
   "metadata": {},
   "source": [
    "# 2.Create a 5x5 matrix with values 1,2,3,4 just below the diagonal"
   ]
  },
  {
   "cell_type": "code",
   "execution_count": 8,
   "metadata": {},
   "outputs": [
    {
     "name": "stdout",
     "output_type": "stream",
     "text": [
      "[[ 1  0  0  0  0]\n",
      " [ 2  3  0  0  0]\n",
      " [ 4  5  6  0  0]\n",
      " [ 7  8  9 10  0]\n",
      " [11 12 13 14 15]]\n",
      "(5, 5)\n"
     ]
    }
   ],
   "source": [
    "b = np.array([[1,0,0,0,0],[2,3,0,0,0],[4,5,6,0,0],[7,8,9,10,0],[11,12,13,14,15]])\n",
    "print(b)\n",
    "print(b.shape)"
   ]
  },
  {
   "cell_type": "markdown",
   "metadata": {},
   "source": [
    "# 3.Create a 8x8 matrix and fill it with a checkerboard pattern"
   ]
  },
  {
   "cell_type": "code",
   "execution_count": 22,
   "metadata": {},
   "outputs": [
    {
     "name": "stdout",
     "output_type": "stream",
     "text": [
      "Checkerboard pattern:\n",
      "0 1 0 1 0 1 0 1 0 1 0 \n",
      "1 0 1 0 1 0 1 0 1 0 1 \n",
      "0 1 0 1 0 1 0 1 0 1 0 \n",
      "1 0 1 0 1 0 1 0 1 0 1 \n",
      "0 1 0 1 0 1 0 1 0 1 0 \n",
      "1 0 1 0 1 0 1 0 1 0 1 \n",
      "0 1 0 1 0 1 0 1 0 1 0 \n",
      "1 0 1 0 1 0 1 0 1 0 1 \n",
      "0 1 0 1 0 1 0 1 0 1 0 \n",
      "1 0 1 0 1 0 1 0 1 0 1 \n",
      "0 1 0 1 0 1 0 1 0 1 0 \n"
     ]
    }
   ],
   "source": [
    "def printcheckboard(no_of_rows_col): \n",
    "      \n",
    "    print(\"Checkerboard pattern:\") \n",
    "    x = np.zeros((no_of_rows_col, no_of_rows_col), dtype = int)  \n",
    "    x[1::2, ::2] = 1\n",
    "    x[::2, 1::2] = 1\n",
    "      \n",
    "    for i in range(no_of_rows_col): \n",
    "        for j in range(no_of_rows_col): \n",
    "            print(x[i][j], end =\" \")  \n",
    "        print()  \n",
    "  \n",
    "  \n",
    "no_of_rows_col = 11\n",
    "printcheckboard(no_of_rows_col) "
   ]
  },
  {
   "cell_type": "markdown",
   "metadata": {},
   "source": [
    "# 4. Normalize a 5x5 random matrix"
   ]
  },
  {
   "cell_type": "code",
   "execution_count": 95,
   "metadata": {},
   "outputs": [
    {
     "name": "stdout",
     "output_type": "stream",
     "text": [
      "before normalization :  \n",
      " [[0.50326705 0.09592629 0.55346807 0.04705037 0.20488912]\n",
      " [0.26977482 0.81313536 0.31788652 0.6089035  0.44908204]\n",
      " [0.18106289 0.35005817 0.58402874 0.64941896 0.25867653]\n",
      " [0.92139694 0.6552598  0.57274678 0.5925022  0.15324837]\n",
      " [0.96042016 0.53177239 0.22251676 0.23209327 0.35614964]]\n",
      "after normalization : \n",
      " [[0.49948738 0.05351165 0.55444981 0.         0.17280926]\n",
      " [0.24384916 0.83874571 0.2965241  0.61514311 0.44016309]\n",
      " [0.14672318 0.33174713 0.58790905 0.65950133 0.23169823]\n",
      " [0.95727555 0.66589615 0.57555704 0.5971862  0.11627055]\n",
      " [1.         0.53069636 0.19210882 0.20259364 0.33841635]]\n"
     ]
    }
   ],
   "source": [
    "c = np.random.random((5,5))\n",
    "#c=np.array([[1,2,3],[3,4,5],[6,7,8]])\n",
    "print(\"before normalization :  \\n\",c)\n",
    "x= (c-c.min())/(c.max()-c.min())\n",
    "print(\"after normalization : \\n\",x)\n"
   ]
  },
  {
   "cell_type": "markdown",
   "metadata": {},
   "source": [
    "# 5.  How to find common values between two arrays?"
   ]
  },
  {
   "cell_type": "code",
   "execution_count": 42,
   "metadata": {},
   "outputs": [
    {
     "name": "stdout",
     "output_type": "stream",
     "text": [
      "Array 1 =  [1 2 4 3 5 7 6] \n",
      "Array 2 =  [  1   4   7   6   8   9  10  44  32  45 102]\n",
      "[1 4 6 7]\n",
      "(4,)\n"
     ]
    }
   ],
   "source": [
    "a1 = np.array([1,2,4,3,5,7,6])\n",
    "a2 = np.array([1,4,7,6,8,9,10,44,32,45,102])\n",
    "print(\"Array 1 = \",a1,\"\\n\"\"Array 2 = \",a2)\n",
    "x = np.intersect1d(a1,a2)\n",
    "print(x)\n",
    "print(x.shape)\n",
    "\n"
   ]
  },
  {
   "cell_type": "markdown",
   "metadata": {},
   "source": [
    "# 6.How to get the dates of yesterday, today and tomorrow?"
   ]
  },
  {
   "cell_type": "code",
   "execution_count": 50,
   "metadata": {},
   "outputs": [
    {
     "name": "stdout",
     "output_type": "stream",
     "text": [
      "yesterday 2020-07-24 \n",
      "Today 2020-07-25 \n",
      "Tomorrow 2020-07-26\n"
     ]
    }
   ],
   "source": [
    "y = np.datetime64('today','D') - np.timedelta64('1','D')\n",
    "t = np.datetime64('today','D')\n",
    "to = np.datetime64('today','D') + np.timedelta64('1','D')\n",
    "print(\"yesterday\",y,\"\\n\"\"Today\",t,\"\\n\"\"Tomorrow\",to)"
   ]
  },
  {
   "cell_type": "markdown",
   "metadata": {},
   "source": [
    "# 7. Consider two random array A and B, check if they are equal"
   ]
  },
  {
   "cell_type": "code",
   "execution_count": 77,
   "metadata": {},
   "outputs": [
    {
     "name": "stdout",
     "output_type": "stream",
     "text": [
      "Array 1 = \n",
      " [[4 2 1]\n",
      " [4 1 4]] \n",
      "Array 2 = \n",
      " [[1 3 2]\n",
      " [4 3 4]]\n",
      "If result is true then the a1 and a2 are equal \n",
      " If result is false then the a1 and a2 are not equal\n",
      "result = \t False\n"
     ]
    }
   ],
   "source": [
    "a1 = np.random.randint(5,size=(2,3))\n",
    "a2 = np.random.randint(5,size=(2,3))\n",
    "print(\"Array 1 = \\n\",a1,\"\\n\"\"Array 2 = \\n\",a2)\n",
    "print(\"If result is true then the a1 and a2 are equal \\n If result is false then the a1 and a2 are not equal\")\n",
    "x = np.allclose(a1,a2)\n",
    "print(\"result = \\t\",x)\n"
   ]
  },
  {
   "cell_type": "markdown",
   "metadata": {},
   "source": [
    "# 8.Create random vector of size 10 and replace the maximum value by 0 "
   ]
  },
  {
   "cell_type": "code",
   "execution_count": 85,
   "metadata": {},
   "outputs": [
    {
     "name": "stdout",
     "output_type": "stream",
     "text": [
      "[0.23866147 0.25549607 0.11535281 0.22345672 0.66402629 0.89202764\n",
      " 0.23136628 0.02592582 0.         0.43657192]\n"
     ]
    }
   ],
   "source": [
    "c = np.random.random((10,))\n",
    "x=np.where(c==c.max(),0,c)\n",
    "print(x)\n"
   ]
  },
  {
   "cell_type": "markdown",
   "metadata": {},
   "source": [
    "# 9. How to print all the values of an array?"
   ]
  },
  {
   "cell_type": "code",
   "execution_count": 87,
   "metadata": {},
   "outputs": [
    {
     "name": "stdout",
     "output_type": "stream",
     "text": [
      "[[0.68003306 0.22002434 0.28813584 0.74989334 0.79775394]\n",
      " [0.87172477 0.34232663 0.57546131 0.3302762  0.85387098]\n",
      " [0.95124659 0.14425044 0.38198913 0.31657386 0.05519344]\n",
      " [0.27929213 0.11119608 0.28852077 0.92195239 0.92076822]\n",
      " [0.73887383 0.65760651 0.09455239 0.60991231 0.49434361]]\n"
     ]
    }
   ],
   "source": [
    "c = np.random.random((5,5))\n",
    "print(c)"
   ]
  },
  {
   "cell_type": "markdown",
   "metadata": {},
   "source": [
    "# 10.Subtract the mean of each row of a matrix"
   ]
  },
  {
   "cell_type": "code",
   "execution_count": 104,
   "metadata": {},
   "outputs": [
    {
     "name": "stdout",
     "output_type": "stream",
     "text": [
      "Original matrix:\n",
      "\n",
      "[[0.00144624 0.43796386 0.52930479 0.08100439 0.39365544 0.818699\n",
      "  0.68920857 0.6416419  0.11373335 0.31373406]\n",
      " [0.5080492  0.84985797 0.90900266 0.29318932 0.33443286 0.21408581\n",
      "  0.65999953 0.09551864 0.85855314 0.3084251 ]\n",
      " [0.79323267 0.73711921 0.11477564 0.20380493 0.71498049 0.72487735\n",
      "  0.2169282  0.81099966 0.11969547 0.37352281]\n",
      " [0.60798747 0.54669945 0.8183879  0.58362238 0.72094456 0.31630611\n",
      "  0.32149121 0.48638317 0.69381245 0.22463161]\n",
      " [0.90367534 0.78776795 0.02611264 0.44182818 0.1254937  0.32421358\n",
      "  0.10917427 0.16137614 0.06779785 0.19659195]]\n",
      "\n",
      "Subtract the mean of each row :\n",
      "\n",
      "[[-0.40059292  0.0359247   0.12726563 -0.32103477 -0.00838372  0.41665984\n",
      "   0.28716941  0.23960274 -0.28830581 -0.0883051 ]\n",
      " [ 0.00493778  0.34674654  0.40589124 -0.20992211 -0.16867856 -0.28902562\n",
      "   0.15688811 -0.40759278  0.35544171 -0.19468632]\n",
      " [ 0.31223902  0.25612556 -0.366218   -0.27718872  0.23398685  0.24388371\n",
      "  -0.26406544  0.33000602 -0.36129817 -0.10747083]\n",
      " [ 0.07596084  0.01467282  0.28636127  0.05159575  0.18891793 -0.21572052\n",
      "  -0.21053543 -0.04564346  0.16178582 -0.30739502]\n",
      " [ 0.58927218  0.47336479 -0.28829052  0.12742502 -0.18890946  0.00981042\n",
      "  -0.20522889 -0.15302702 -0.24660531 -0.11781121]]\n"
     ]
    }
   ],
   "source": [
    "\n",
    "print(\"Original matrix:\\n\")\n",
    "X = np.random.rand(5, 10)\n",
    "print(X)\n",
    "print(\"\\nSubtract the mean of each row :\\n\")\n",
    "Y = X - X.mean(axis=1, keepdims=True)\n",
    "print(Y)\n"
   ]
  },
  {
   "cell_type": "markdown",
   "metadata": {},
   "source": [
    "# 11.Consider a given vector, how to add 1 to each element indexed by a second vector (be careful with repeated indices)? "
   ]
  },
  {
   "cell_type": "code",
   "execution_count": 7,
   "metadata": {},
   "outputs": [
    {
     "name": "stdout",
     "output_type": "stream",
     "text": [
      "[2. 3. 3. 2. 4. 4. 3. 4. 2. 3.]\n"
     ]
    }
   ],
   "source": [
    "import numpy as np\n",
    "\n",
    "Z = np.ones(10)\n",
    "I = np.random.randint(0,len(Z),20)\n",
    "Z += np.bincount(I, minlength=len(Z))\n",
    "print(Z)\n"
   ]
  },
  {
   "cell_type": "markdown",
   "metadata": {},
   "source": [
    "# 12.How to get the diagonal of a dot product?"
   ]
  },
  {
   "cell_type": "code",
   "execution_count": 12,
   "metadata": {},
   "outputs": [
    {
     "name": "stdout",
     "output_type": "stream",
     "text": [
      "Array 1 = \n",
      " [[4 0 0]\n",
      " [1 1 0]\n",
      " [2 4 4]] \n",
      "Array 2 = \n",
      " [[3 0 1]\n",
      " [3 0 3]\n",
      " [0 4 1]]\n",
      "[12  0 18]\n"
     ]
    }
   ],
   "source": [
    "import numpy as np\n",
    "A = np.random.randint(5,size=(3,3))\n",
    "B = np.random.randint(5,size=(3,3))\n",
    "\n",
    "print(\"Array 1 = \\n\",A,\"\\n\"\"Array 2 = \\n\",B)\n",
    "\n",
    "x=A.dot(B)\n",
    "result = np.diag(x)\n",
    "print(result)"
   ]
  },
  {
   "cell_type": "markdown",
   "metadata": {},
   "source": [
    "# 13.How to find the most frequent value in an array?"
   ]
  },
  {
   "cell_type": "code",
   "execution_count": 18,
   "metadata": {},
   "outputs": [
    {
     "name": "stdout",
     "output_type": "stream",
     "text": [
      "7\n"
     ]
    }
   ],
   "source": [
    "def most_freq(arr): \n",
    "    counter = 0\n",
    "    num = arr[0] \n",
    "      \n",
    "    for i in arr: \n",
    "        curr_freq = arr.count(i) \n",
    "        if(curr_freq> counter): \n",
    "            counter = curr_freq \n",
    "            num = i \n",
    "  \n",
    "    return num \n",
    "  \n",
    "arr = [1,2,3,3,3,4,5,6,7,8,9,9,9,9,6,6,6,6,6,6,7,7,7,7,7,7,7,8,9,9] \n",
    "print(most_freq(arr)) "
   ]
  },
  {
   "cell_type": "markdown",
   "metadata": {},
   "source": [
    "# 14.How to get the n largest values of an array"
   ]
  },
  {
   "cell_type": "code",
   "execution_count": 25,
   "metadata": {},
   "outputs": [
    {
     "name": "stdout",
     "output_type": "stream",
     "text": [
      "Original array:\n",
      "[  0   1   2   3   4   5   6   7   8   9  10  11  12  13  14  15  16  17\n",
      "  18  19  20  21  22  23  24  25  26  27  28  29  30  31  32  33  34  35\n",
      "  36  37  38  39  40  41  42  43  44  45  46  47  48  49  50  51  52  53\n",
      "  54  55  56  57  58  59  60  61  62  63  64  65  66  67  68  69  70  71\n",
      "  72  73  74  75  76  77  78  79  80  81  82  83  84  85  86  87  88  89\n",
      "  90  91  92  93  94  95  96  97  98  99 100 101 102 103 104 105 106 107\n",
      " 108 109 110 111 112 113 114 115 116 117 118 119 120]\n",
      "[120]\n"
     ]
    }
   ],
   "source": [
    "import numpy as np\n",
    "x = np.arange(121)\n",
    "print(\"Original array:\")\n",
    "print(x)\n",
    "np.random.shuffle(x)\n",
    "n = 1\n",
    "print (x[np.argsort(x)[-n:]])\n"
   ]
  },
  {
   "cell_type": "markdown",
   "metadata": {},
   "source": [
    "# 15.How to create a record array from a regular array?"
   ]
  },
  {
   "cell_type": "code",
   "execution_count": 29,
   "metadata": {},
   "outputs": [
    {
     "name": "stdout",
     "output_type": "stream",
     "text": [
      "(1001, 'Rahul', 60)\n",
      "(1002, 'Goli', 78)\n",
      "(1003, 'tapu', 65)\n"
     ]
    }
   ],
   "source": [
    "import numpy as np\n",
    "roll_no=np.array([1001,1002,1003,1004])\n",
    "name=np.array(['Rahul','Goli','tapu','sonu'])\n",
    "marks_in_math=np.array([60,78,65,98])\n",
    "rec= np.core.records.fromarrays([roll_no, name, marks_in_math])\n",
    "print(rec[0])\n",
    "print(rec[1])\n",
    "print(rec[2])"
   ]
  }
 ],
 "metadata": {
  "kernelspec": {
   "display_name": "Python 3",
   "language": "python",
   "name": "python3"
  },
  "language_info": {
   "codemirror_mode": {
    "name": "ipython",
    "version": 3
   },
   "file_extension": ".py",
   "mimetype": "text/x-python",
   "name": "python",
   "nbconvert_exporter": "python",
   "pygments_lexer": "ipython3",
   "version": "3.7.6"
  }
 },
 "nbformat": 4,
 "nbformat_minor": 2
}
