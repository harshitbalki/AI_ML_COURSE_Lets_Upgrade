{
 "cells": [
  {
   "cell_type": "markdown",
   "metadata": {},
   "source": [
    "## Q1"
   ]
  },
  {
   "cell_type": "code",
   "execution_count": 6,
   "metadata": {},
   "outputs": [
    {
     "name": "stdout",
     "output_type": "stream",
     "text": [
      "addition of complex numbers =  (7+16j)\n",
      "subtraction of complex num =  (1-2j)\n",
      "multiplication of complex num =  (-51+57j)\n",
      "division of complex num =  (0.8333333333333334-0.16666666666666669j)\n"
     ]
    }
   ],
   "source": [
    "# addition\n",
    "x = complex(4,7)\n",
    "y = complex(3,9)\n",
    "ans=x+y\n",
    "print(\"addition of complex numbers = \",ans)\n",
    "\n",
    "# substraction\n",
    "x = complex(4,7)\n",
    "y = complex(3,9)\n",
    "ans=x-y\n",
    "print(\"subtraction of complex num = \",ans)\n",
    "\n",
    "# multiply\n",
    "x = complex(4,7)\n",
    "y = complex(3,9)\n",
    "ans=x*y\n",
    "print(\"multiplication of complex num = \",ans)\n",
    "\n",
    "# division\n",
    "x = complex(4,7)\n",
    "y = complex(3,9)\n",
    "ans=x/y\n",
    "print(\"division of complex num = \",ans)\n",
    "\n",
    "\n"
   ]
  },
  {
   "cell_type": "code",
   "execution_count": 5,
   "metadata": {},
   "outputs": [
    {
     "ename": "TypeError",
     "evalue": "can't take floor of complex number.",
     "output_type": "error",
     "traceback": [
      "\u001b[1;31m---------------------------------------------------------------------------\u001b[0m",
      "\u001b[1;31mTypeError\u001b[0m                                 Traceback (most recent call last)",
      "\u001b[1;32m<ipython-input-5-09fbcf73484a>\u001b[0m in \u001b[0;36m<module>\u001b[1;34m\u001b[0m\n\u001b[0;32m      2\u001b[0m \u001b[0mx\u001b[0m \u001b[1;33m=\u001b[0m \u001b[0mcomplex\u001b[0m\u001b[1;33m(\u001b[0m\u001b[1;36m4\u001b[0m\u001b[1;33m,\u001b[0m\u001b[1;36m7\u001b[0m\u001b[1;33m)\u001b[0m\u001b[1;33m\u001b[0m\u001b[1;33m\u001b[0m\u001b[0m\n\u001b[0;32m      3\u001b[0m \u001b[0my\u001b[0m \u001b[1;33m=\u001b[0m \u001b[0mcomplex\u001b[0m\u001b[1;33m(\u001b[0m\u001b[1;36m3\u001b[0m\u001b[1;33m,\u001b[0m\u001b[1;36m9\u001b[0m\u001b[1;33m)\u001b[0m\u001b[1;33m\u001b[0m\u001b[1;33m\u001b[0m\u001b[0m\n\u001b[1;32m----> 4\u001b[1;33m \u001b[0mans\u001b[0m\u001b[1;33m=\u001b[0m\u001b[0mx\u001b[0m\u001b[1;33m//\u001b[0m\u001b[0my\u001b[0m\u001b[1;33m\u001b[0m\u001b[1;33m\u001b[0m\u001b[0m\n\u001b[0m\u001b[0;32m      5\u001b[0m \u001b[0mprint\u001b[0m\u001b[1;33m(\u001b[0m\u001b[1;34m\"floor division of complex num = \"\u001b[0m\u001b[1;33m,\u001b[0m\u001b[0mans\u001b[0m\u001b[1;33m)\u001b[0m\u001b[1;33m\u001b[0m\u001b[1;33m\u001b[0m\u001b[0m\n",
      "\u001b[1;31mTypeError\u001b[0m: can't take floor of complex number."
     ]
    }
   ],
   "source": [
    "\n",
    "# floor division\n",
    "x = complex(4,7)\n",
    "y = complex(3,9)\n",
    "ans=x//y\n",
    "print(\"floor division of complex num = \",ans)"
   ]
  },
  {
   "cell_type": "code",
   "execution_count": 7,
   "metadata": {},
   "outputs": [
    {
     "ename": "TypeError",
     "evalue": "can't mod complex numbers.",
     "output_type": "error",
     "traceback": [
      "\u001b[1;31m---------------------------------------------------------------------------\u001b[0m",
      "\u001b[1;31mTypeError\u001b[0m                                 Traceback (most recent call last)",
      "\u001b[1;32m<ipython-input-7-02dca7760af3>\u001b[0m in \u001b[0;36m<module>\u001b[1;34m\u001b[0m\n\u001b[0;32m      2\u001b[0m \u001b[0mx\u001b[0m \u001b[1;33m=\u001b[0m \u001b[0mcomplex\u001b[0m\u001b[1;33m(\u001b[0m\u001b[1;36m4\u001b[0m\u001b[1;33m,\u001b[0m\u001b[1;36m7\u001b[0m\u001b[1;33m)\u001b[0m\u001b[1;33m\u001b[0m\u001b[1;33m\u001b[0m\u001b[0m\n\u001b[0;32m      3\u001b[0m \u001b[0my\u001b[0m \u001b[1;33m=\u001b[0m \u001b[0mcomplex\u001b[0m\u001b[1;33m(\u001b[0m\u001b[1;36m3\u001b[0m\u001b[1;33m,\u001b[0m\u001b[1;36m9\u001b[0m\u001b[1;33m)\u001b[0m\u001b[1;33m\u001b[0m\u001b[1;33m\u001b[0m\u001b[0m\n\u001b[1;32m----> 4\u001b[1;33m \u001b[0mans\u001b[0m\u001b[1;33m=\u001b[0m\u001b[0mx\u001b[0m\u001b[1;33m%\u001b[0m\u001b[0my\u001b[0m\u001b[1;33m\u001b[0m\u001b[1;33m\u001b[0m\u001b[0m\n\u001b[0m\u001b[0;32m      5\u001b[0m \u001b[0mprint\u001b[0m\u001b[1;33m(\u001b[0m\u001b[1;34m\"modulo of complex num = \"\u001b[0m\u001b[1;33m,\u001b[0m\u001b[0mans\u001b[0m\u001b[1;33m)\u001b[0m\u001b[1;33m\u001b[0m\u001b[1;33m\u001b[0m\u001b[0m\n",
      "\u001b[1;31mTypeError\u001b[0m: can't mod complex numbers."
     ]
    }
   ],
   "source": [
    "# modulo\n",
    "x = complex(4,7)\n",
    "y = complex(3,9)\n",
    "ans=x%y\n",
    "print(\"modulo of complex num = \",ans)"
   ]
  },
  {
   "cell_type": "markdown",
   "metadata": {},
   "source": [
    "___we cannot calculate modulo and floor division of complex number___"
   ]
  },
  {
   "cell_type": "markdown",
   "metadata": {},
   "source": [
    "## Q2"
   ]
  },
  {
   "cell_type": "markdown",
   "metadata": {},
   "source": [
    "# function : range()\n",
    "\n",
    "__In python range is one of the built-in functions available in Python. It generates a series of integers starting from a start value to a stop value as specified by the user. We can use it with for loop and traverse the whole range like a list.__\n",
    "\n",
    "The range() function takes one required and two optional parameters.\n",
    "It works differently with different combinations of arguments. \n",
    "\n",
    "In simple terms, range() allows user to generate a series of numbers within a given range. Depending on how many arguments user is passing to the function, user can decide where that series of numbers will begin and end as well as how big the difference will be between one number and the next.range() takes mainly three arguments.\n",
    "\n",
    "1. start: integer starting from which the sequence of integers is to be returned\n",
    "2. stop: integer before which the sequence of integers is to be returned.\n",
    "3. The range of integers end at stop – 1.\n",
    "4. step: integer value which determines the increment between each integer in the sequence\n",
    "\n",
    "_range(stop) takes one argument._\n",
    "_range(start, stop) takes two arguments._\n",
    "_range(start, stop, step) takes three arguments._\n",
    "\n",
    "eg:"
   ]
  },
  {
   "cell_type": "code",
   "execution_count": 13,
   "metadata": {},
   "outputs": [
    {
     "name": "stdout",
     "output_type": "stream",
     "text": [
      "0 1 2 3 4 5 6 7 8 9 \n"
     ]
    }
   ],
   "source": [
    "# 1\n",
    "# printing a number \n",
    "\n",
    "for i in range(10): \n",
    "    print(i, end =\" \") \n",
    "print() \n",
    "  \n"
   ]
  },
  {
   "cell_type": "code",
   "execution_count": 12,
   "metadata": {},
   "outputs": [
    {
     "name": "stdout",
     "output_type": "stream",
     "text": [
      "5 10 15 20 \n"
     ]
    }
   ],
   "source": [
    "# 2\n",
    "# using range for iteration / repetation\n",
    "l = [5, 10, 15, 20] \n",
    "for i in range(len(l)): \n",
    "    print(l[i], end =\" \") \n",
    "print() "
   ]
  },
  {
   "cell_type": "code",
   "execution_count": 1,
   "metadata": {},
   "outputs": [
    {
     "name": "stdout",
     "output_type": "stream",
     "text": [
      "Sum of first 20 natural number : 210\n"
     ]
    }
   ],
   "source": [
    "# 3\n",
    "# performing sum of natural number \n",
    "sum = 0\n",
    "for i in range(1, 21): \n",
    "    sum = sum + i \n",
    "print(\"Sum of first 20 natural number :\", sum) \n"
   ]
  },
  {
   "cell_type": "markdown",
   "metadata": {},
   "source": [
    "## Q3"
   ]
  },
  {
   "cell_type": "code",
   "execution_count": 3,
   "metadata": {},
   "outputs": [
    {
     "name": "stdout",
     "output_type": "stream",
     "text": [
      "enter any num = 100\n",
      "enter any num = 50\n",
      "substraction is greator than 25 , therefore multiplication is =  5000\n"
     ]
    }
   ],
   "source": [
    "a = int(input(\"enter any num = \"))\n",
    "b = int(input(\"enter any num = \"))\n",
    "\n",
    "sub=a-b\n",
    "if sub >= 25:\n",
    "    ans=a*b\n",
    "    print(\"substraction is greator than 25 , therefore multiplication is = \",ans)\n",
    "else:\n",
    "    ans=a/b\n",
    "    print(\"substraction is less than 25 , therefore division is = \",ans)"
   ]
  },
  {
   "cell_type": "markdown",
   "metadata": {},
   "source": [
    "## Q4"
   ]
  },
  {
   "cell_type": "code",
   "execution_count": 12,
   "metadata": {},
   "outputs": [
    {
     "name": "stdout",
     "output_type": "stream",
     "text": [
      "For i =  10 answer =  98\n",
      "For i =  20 answer =  398\n",
      "For i =  30 answer =  898\n",
      "For i =  40 answer =  1598\n",
      "For i =  50 answer =  2498\n"
     ]
    }
   ],
   "source": [
    "l =[5,10,15,20,25,30,35,40,45,50]\n",
    "for i in l:\n",
    "    if i%2==0:\n",
    "        print(\"For i = \",i,\"answer = \",i**2-2)"
   ]
  },
  {
   "cell_type": "markdown",
   "metadata": {},
   "source": [
    "## Q5"
   ]
  },
  {
   "cell_type": "code",
   "execution_count": 15,
   "metadata": {},
   "outputs": [
    {
     "name": "stdout",
     "output_type": "stream",
     "text": [
      "num are 30\n",
      "num are 45\n",
      "num are 67\n",
      "num are 34\n",
      "num are 98\n"
     ]
    }
   ],
   "source": [
    "l=[30,45,67,34,98,2,5,10,3,4]\n",
    "for num in l:\n",
    "    if num/2 > 7:\n",
    "        print(\"num are\",num)"
   ]
  },
  {
   "cell_type": "code",
   "execution_count": null,
   "metadata": {},
   "outputs": [],
   "source": []
  }
 ],
 "metadata": {
  "kernelspec": {
   "display_name": "Python 3",
   "language": "python",
   "name": "python3"
  },
  "language_info": {
   "codemirror_mode": {
    "name": "ipython",
    "version": 3
   },
   "file_extension": ".py",
   "mimetype": "text/x-python",
   "name": "python",
   "nbconvert_exporter": "python",
   "pygments_lexer": "ipython3",
   "version": "3.7.6"
  }
 },
 "nbformat": 4,
 "nbformat_minor": 4
}
