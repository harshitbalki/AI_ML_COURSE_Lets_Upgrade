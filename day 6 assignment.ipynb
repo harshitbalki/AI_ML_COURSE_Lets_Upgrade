{
 "cells": [
  {
   "cell_type": "markdown",
   "metadata": {},
   "source": [
    "## Q1"
   ]
  },
  {
   "cell_type": "code",
   "execution_count": 11,
   "metadata": {},
   "outputs": [
    {
     "name": "stdout",
     "output_type": "stream",
     "text": [
      "enter your email address = rohan@yahoo.com\n",
      "yahoo\n"
     ]
    }
   ],
   "source": [
    "\n",
    "emailaddress =str(input(\"enter your email address = \"))\n",
    "c_name= \"(\\w+)@(\\w+)\\.(com)\"\n",
    "r= re.match(c_name,emailaddress)\n",
    "print (r.group(2))\n"
   ]
  },
  {
   "cell_type": "markdown",
   "metadata": {},
   "source": [
    "## Q2"
   ]
  },
  {
   "cell_type": "code",
   "execution_count": 7,
   "metadata": {},
   "outputs": [
    {
     "name": "stdout",
     "output_type": "stream",
     "text": [
      "enter str seperated by comma = hi,my,name,is,harshit,and,i,am,doing,great\n",
      "['hi', 'my', 'name', 'is', 'harshit', 'and', 'i', 'am', 'doing', 'great']\n",
      "['am', 'and', 'doing', 'great', 'harshit', 'hi', 'i', 'is', 'my', 'name']\n"
     ]
    }
   ],
   "source": [
    "a=input(\"enter str seperated by comma = \")\n",
    "l1=a.split(\",\")\n",
    "print(list(l1))\n",
    "l1.sort()\n",
    "print(l1)\n"
   ]
  },
  {
   "cell_type": "markdown",
   "metadata": {},
   "source": [
    "## Q4"
   ]
  },
  {
   "cell_type": "code",
   "execution_count": 12,
   "metadata": {},
   "outputs": [
    {
     "name": "stdout",
     "output_type": "stream",
     "text": [
      "4.0\n"
     ]
    }
   ],
   "source": [
    "def missing(a):\n",
    "    n=len(a)\n",
    "    total=(n+1)*(n+2)/2\n",
    "    s=sum(a)\n",
    "    return total - s\n",
    "a=[1,2,3,5,6,7,8,9,10,11]\n",
    "miss = missing(a)\n",
    "print(miss)\n"
   ]
  },
  {
   "cell_type": "markdown",
   "metadata": {},
   "source": [
    "## Q5"
   ]
  },
  {
   "cell_type": "code",
   "execution_count": 13,
   "metadata": {},
   "outputs": [
    {
     "name": "stdout",
     "output_type": "stream",
     "text": [
      "orignal list =  [10, 11, 11, 22, 54, 88, 12, 10, 22]\n",
      "i hate repeats i.e dublicate or repeated values removed =  [10, 11, 22, 54, 88, 12]\n"
     ]
    }
   ],
   "source": [
    "# remove dublicates\n",
    "\n",
    "def remove_dublicates(l1):\n",
    "    l2=[]\n",
    "    for n in l1:\n",
    "        if n not in l2:\n",
    "            l2.append(n)\n",
    "    return l2\n",
    "l1=[10,11,11,22,54,88,12,10,22]\n",
    "print(\"orignal list = \",l1)\n",
    "print(\"i hate repeats i.e dublicate or repeated values removed = \",remove_dublicates(l1))"
   ]
  },
  {
   "cell_type": "code",
   "execution_count": null,
   "metadata": {},
   "outputs": [],
   "source": []
  }
 ],
 "metadata": {
  "kernelspec": {
   "display_name": "Python 3",
   "language": "python",
   "name": "python3"
  },
  "language_info": {
   "codemirror_mode": {
    "name": "ipython",
    "version": 3
   },
   "file_extension": ".py",
   "mimetype": "text/x-python",
   "name": "python",
   "nbconvert_exporter": "python",
   "pygments_lexer": "ipython3",
   "version": "3.7.6"
  }
 },
 "nbformat": 4,
 "nbformat_minor": 4
}
