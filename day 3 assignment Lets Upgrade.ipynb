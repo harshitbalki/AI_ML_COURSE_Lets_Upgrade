{
 "cells": [
  {
   "cell_type": "markdown",
   "metadata": {},
   "source": [
    "## Q1 ans"
   ]
  },
  {
   "cell_type": "code",
   "execution_count": 5,
   "metadata": {},
   "outputs": [
    {
     "name": "stdout",
     "output_type": "stream",
     "text": [
      "sub of complex num is =  (1-2j)\n"
     ]
    }
   ],
   "source": [
    "x = complex(4,7)\n",
    "y = complex(3,9)\n",
    "ans = x-y\n",
    "print(\"sub of complex num is = \",ans)"
   ]
  },
  {
   "cell_type": "markdown",
   "metadata": {},
   "source": [
    "## Q2 ans"
   ]
  },
  {
   "cell_type": "code",
   "execution_count": 10,
   "metadata": {},
   "outputs": [
    {
     "name": "stdout",
     "output_type": "stream",
     "text": [
      "enter any num = 16\n",
      "fourth root of a is =  2.0\n"
     ]
    }
   ],
   "source": [
    "# 4 th root of a number\n",
    "\n",
    "a = int(input(\"enter any num = \"))\n",
    "ans=a**(1/4)\n",
    "print(\"fourth root of a is = \",ans)"
   ]
  },
  {
   "cell_type": "markdown",
   "metadata": {},
   "source": [
    "## Q3 ans"
   ]
  },
  {
   "cell_type": "code",
   "execution_count": 14,
   "metadata": {},
   "outputs": [
    {
     "name": "stdout",
     "output_type": "stream",
     "text": [
      "enter 1st num a = 34\n",
      "enter 2st num b = 56\n",
      "new value of a is  56 new value of b is  34\n"
     ]
    }
   ],
   "source": [
    "a = int(input(\"enter 1st num a = \"))\n",
    "b = int(input(\"enter 2st num b = \"))\n",
    "\n",
    "c=a\n",
    "a=b\n",
    "b=c\n",
    "print(\"new value of a is \",a,\"new value of b is \",b)"
   ]
  },
  {
   "cell_type": "markdown",
   "metadata": {},
   "source": [
    "## Q4 ans"
   ]
  },
  {
   "cell_type": "code",
   "execution_count": 13,
   "metadata": {},
   "outputs": [
    {
     "name": "stdout",
     "output_type": "stream",
     "text": [
      "enter 1st num a = 23\n",
      "enter 2st num b = 45\n",
      "new value of a is  45 new value of b is  23\n"
     ]
    }
   ],
   "source": [
    "a = int(input(\"enter 1st num a = \"))\n",
    "b = int(input(\"enter 2st num b = \"))\n",
    "\n",
    "a=a+b\n",
    "b=a-b\n",
    "a=a-b\n",
    "print(\"new value of a is \",a,\"new value of b is \",b)"
   ]
  },
  {
   "cell_type": "markdown",
   "metadata": {},
   "source": [
    "## Q5 ans"
   ]
  },
  {
   "cell_type": "code",
   "execution_count": 16,
   "metadata": {},
   "outputs": [
    {
     "name": "stdout",
     "output_type": "stream",
     "text": [
      "enter the temperature in fahrenheit = 50\n",
      "temperature in degree celcius =  10.0 temperature in degree kelvins =  283.15\n"
     ]
    }
   ],
   "source": [
    "# changing SI unit of temperature\n",
    "f = float(input(\"enter the temperature in fahrenheit = \"))\n",
    "c = (f-32)*(5/9)\n",
    "k = (f-32)*(5/9)+273.15\n",
    "print(\"temperature in degree celcius = \",c,\"temperature in degree kelvins = \",k)"
   ]
  },
  {
   "cell_type": "markdown",
   "metadata": {},
   "source": [
    "## Q6 ans"
   ]
  },
  {
   "cell_type": "code",
   "execution_count": 21,
   "metadata": {},
   "outputs": [
    {
     "name": "stdout",
     "output_type": "stream",
     "text": [
      "data type of a =  <class 'int'>\n",
      "data type of b =  <class 'str'>\n",
      "data type of c =  <class 'bool'>\n",
      "data type of d =  <class 'float'>\n"
     ]
    }
   ],
   "source": [
    "# the 4 available data types in python are =\n",
    "a=1234\n",
    "b=\"harshit\"\n",
    "c=True\n",
    "d=6.023\n",
    "print(\"data type of a = \",type(a))\n",
    "print(\"data type of b = \",type(b))\n",
    "print(\"data type of c = \",type(c))\n",
    "print(\"data type of d = \",type(d))"
   ]
  },
  {
   "cell_type": "markdown",
   "metadata": {},
   "source": [
    "## Q7 ans"
   ]
  },
  {
   "cell_type": "markdown",
   "metadata": {},
   "source": [
    "# How to submit Assignments?\n",
    "\n",
    "__1. Create a github public repo and name it LetsUpgrade AI/ML__\n",
    "\n",
    "__2. Upload the files/solution in the repo in day wise manner.__\n",
    "\n",
    "__3. Copy the url of the Folder of that day and paste in the Assignment Submission Form (Google Form) which will be mentioned in this section after the class.__\n",
    "\n",
    "__4. Make sure you are filling correct details in the Assignment Submission Form.__\n",
    "\n",
    "__5. You have to upload the assignment solutions to your Github profile and submit the URL to us.__\n",
    "\n",
    "### _All the dropdowns will be available till the week end only. i.e Previous weeks drop-down will disappear on each Sunday 11:59 PM_"
   ]
  },
  {
   "cell_type": "code",
   "execution_count": null,
   "metadata": {},
   "outputs": [],
   "source": []
  }
 ],
 "metadata": {
  "kernelspec": {
   "display_name": "Python 3",
   "language": "python",
   "name": "python3"
  },
  "language_info": {
   "codemirror_mode": {
    "name": "ipython",
    "version": 3
   },
   "file_extension": ".py",
   "mimetype": "text/x-python",
   "name": "python",
   "nbconvert_exporter": "python",
   "pygments_lexer": "ipython3",
   "version": "3.7.6"
  }
 },
 "nbformat": 4,
 "nbformat_minor": 4
}
